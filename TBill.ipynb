{
 "cells": [
  {
   "cell_type": "code",
   "execution_count": 20,
   "id": "initial_id",
   "metadata": {
    "collapsed": true,
    "ExecuteTime": {
     "end_time": "2024-01-24T08:51:10.820236Z",
     "start_time": "2024-01-24T08:51:10.814996Z"
    }
   },
   "outputs": [],
   "source": [
    "import numpy as np\n",
    "from qiskit.circuit import QuantumCircuit\n",
    "from qiskit import QuantumRegister, ClassicalRegister, QuantumCircuit, Aer, transpile, assemble, execute\n",
    "from qiskit.circuit.library import QFT\n",
    "from numpy import pi"
   ]
  },
  {
   "cell_type": "code",
   "execution_count": 12,
   "outputs": [
    {
     "data": {
      "text/plain": "<qiskit.circuit.instructionset.InstructionSet at 0x1479e95e0>"
     },
     "execution_count": 12,
     "metadata": {},
     "output_type": "execute_result"
    }
   ],
   "source": [
    "qreg_q = QuantumRegister(5, 'q')\n",
    "creg_c = ClassicalRegister(4, 'c')\n",
    "circuit = QuantumCircuit(qreg_q, creg_c)\n",
    "\n",
    "circuit.h(qreg_q[0])\n",
    "circuit.h(qreg_q[2])\n",
    "circuit.ry(1.16, qreg_q[4])\n",
    "circuit.h(qreg_q[3])\n",
    "circuit.h(qreg_q[1])\n",
    "circuit.cry(2.32, qreg_q[0], qreg_q[4])\n",
    "circuit.cry(4.64, qreg_q[1], qreg_q[4])\n",
    "circuit.cry(9.27, qreg_q[2], qreg_q[4])\n",
    "circuit.cry(5.98, qreg_q[3], qreg_q[4])\n",
    "\n",
    "circuit.append(QFT(len(qreg_q)-1, inverse=True, do_swaps=False), qreg_q[0:4])"
   ],
   "metadata": {
    "collapsed": false,
    "ExecuteTime": {
     "end_time": "2024-01-24T08:49:53.374910Z",
     "start_time": "2024-01-24T08:49:53.370907Z"
    }
   },
   "id": "6a8b744ef5086c4"
  },
  {
   "cell_type": "code",
   "execution_count": 13,
   "outputs": [
    {
     "data": {
      "text/plain": "        ┌───┐                                                    ┌───────┐\nq_0: ───┤ H ├─────────■──────────────────────────────────────────┤0      ├\n        ├───┤         │                                          │       │\nq_1: ───┤ H ├─────────┼───────────■──────────────────────────────┤1      ├\n        ├───┤         │           │                              │  IQFT │\nq_2: ───┤ H ├─────────┼───────────┼───────────■──────────────────┤2      ├\n        ├───┤         │           │           │                  │       │\nq_3: ───┤ H ├─────────┼───────────┼───────────┼───────────■──────┤3      ├\n     ┌──┴───┴───┐┌────┴─────┐┌────┴─────┐┌────┴─────┐┌────┴─────┐└───────┘\nq_4: ┤ Ry(1.16) ├┤ Ry(2.32) ├┤ Ry(4.64) ├┤ Ry(9.27) ├┤ Ry(5.98) ├─────────\n     └──────────┘└──────────┘└──────────┘└──────────┘└──────────┘         \nc: 4/═════════════════════════════════════════════════════════════════════\n                                                                          ",
      "text/html": "<pre style=\"word-wrap: normal;white-space: pre;background: #fff0;line-height: 1.1;font-family: &quot;Courier New&quot;,Courier,monospace\">        ┌───┐                                                    ┌───────┐\nq_0: ───┤ H ├─────────■──────────────────────────────────────────┤0      ├\n        ├───┤         │                                          │       │\nq_1: ───┤ H ├─────────┼───────────■──────────────────────────────┤1      ├\n        ├───┤         │           │                              │  IQFT │\nq_2: ───┤ H ├─────────┼───────────┼───────────■──────────────────┤2      ├\n        ├───┤         │           │           │                  │       │\nq_3: ───┤ H ├─────────┼───────────┼───────────┼───────────■──────┤3      ├\n     ┌──┴───┴───┐┌────┴─────┐┌────┴─────┐┌────┴─────┐┌────┴─────┐└───────┘\nq_4: ┤ Ry(1.16) ├┤ Ry(2.32) ├┤ Ry(4.64) ├┤ Ry(9.27) ├┤ Ry(5.98) ├─────────\n     └──────────┘└──────────┘└──────────┘└──────────┘└──────────┘         \nc: 4/═════════════════════════════════════════════════════════════════════\n                                                                          </pre>"
     },
     "execution_count": 13,
     "metadata": {},
     "output_type": "execute_result"
    }
   ],
   "source": [
    "circuit.draw()"
   ],
   "metadata": {
    "collapsed": false,
    "ExecuteTime": {
     "end_time": "2024-01-24T08:49:53.982631Z",
     "start_time": "2024-01-24T08:49:53.980332Z"
    }
   },
   "id": "d0f4dd5723b9a6b7"
  },
  {
   "cell_type": "code",
   "execution_count": 15,
   "outputs": [
    {
     "data": {
      "text/plain": "<qiskit.circuit.instructionset.InstructionSet at 0x143005fa0>"
     },
     "execution_count": 15,
     "metadata": {},
     "output_type": "execute_result"
    }
   ],
   "source": [
    "circuit.measure(qreg_q[0:4], creg_c)"
   ],
   "metadata": {
    "collapsed": false,
    "ExecuteTime": {
     "end_time": "2024-01-24T08:50:06.407772Z",
     "start_time": "2024-01-24T08:50:06.401330Z"
    }
   },
   "id": "db767a4bb87d455d"
  },
  {
   "cell_type": "code",
   "execution_count": 16,
   "outputs": [],
   "source": [
    "simulator = Aer.get_backend('qasm_simulator')"
   ],
   "metadata": {
    "collapsed": false,
    "ExecuteTime": {
     "end_time": "2024-01-24T08:50:46.194770Z",
     "start_time": "2024-01-24T08:50:46.180595Z"
    }
   },
   "id": "b6c851ebcfce4960"
  },
  {
   "cell_type": "code",
   "execution_count": 17,
   "outputs": [],
   "source": [
    "tqc = transpile(circuit, simulator)"
   ],
   "metadata": {
    "collapsed": false,
    "ExecuteTime": {
     "end_time": "2024-01-24T08:50:51.095905Z",
     "start_time": "2024-01-24T08:50:51.068222Z"
    }
   },
   "id": "6093f1b0e3771734"
  },
  {
   "cell_type": "code",
   "execution_count": 18,
   "outputs": [],
   "source": [
    "qobj = assemble(tqc)"
   ],
   "metadata": {
    "collapsed": false,
    "ExecuteTime": {
     "end_time": "2024-01-24T08:50:56.161598Z",
     "start_time": "2024-01-24T08:50:56.156291Z"
    }
   },
   "id": "fdd741764adcb9be"
  },
  {
   "cell_type": "code",
   "execution_count": 22,
   "outputs": [
    {
     "ename": "AttributeError",
     "evalue": "'QasmQobj' object has no attribute 'name'",
     "output_type": "error",
     "traceback": [
      "\u001B[0;31m---------------------------------------------------------------------------\u001B[0m",
      "\u001B[0;31mAttributeError\u001B[0m                            Traceback (most recent call last)",
      "Cell \u001B[0;32mIn[22], line 1\u001B[0m\n\u001B[0;32m----> 1\u001B[0m result \u001B[38;5;241m=\u001B[39m \u001B[43mexecute\u001B[49m\u001B[43m(\u001B[49m\u001B[43mqobj\u001B[49m\u001B[43m,\u001B[49m\u001B[43m \u001B[49m\u001B[43msimulator\u001B[49m\u001B[43m)\u001B[49m\u001B[38;5;241m.\u001B[39mresult()\n",
      "File \u001B[0;32m~/anaconda3/envs/QRA/lib/python3.8/site-packages/qiskit/execute_function.py:286\u001B[0m, in \u001B[0;36mexecute\u001B[0;34m(experiments, backend, basis_gates, coupling_map, backend_properties, initial_layout, seed_transpiler, optimization_level, pass_manager, shots, memory, seed_simulator, default_qubit_los, default_meas_los, qubit_lo_range, meas_lo_range, schedule_los, meas_level, meas_return, memory_slots, memory_slot_size, rep_time, rep_delay, parameter_binds, schedule_circuit, inst_map, meas_map, scheduling_method, init_qubits, **run_config)\u001B[0m\n\u001B[1;32m    283\u001B[0m     experiments \u001B[38;5;241m=\u001B[39m pass_manager\u001B[38;5;241m.\u001B[39mrun(experiments)\n\u001B[1;32m    284\u001B[0m \u001B[38;5;28;01melse\u001B[39;00m:\n\u001B[1;32m    285\u001B[0m     \u001B[38;5;66;03m# transpiling the circuits using given transpile options\u001B[39;00m\n\u001B[0;32m--> 286\u001B[0m     experiments \u001B[38;5;241m=\u001B[39m \u001B[43mtranspile\u001B[49m\u001B[43m(\u001B[49m\n\u001B[1;32m    287\u001B[0m \u001B[43m        \u001B[49m\u001B[43mexperiments\u001B[49m\u001B[43m,\u001B[49m\n\u001B[1;32m    288\u001B[0m \u001B[43m        \u001B[49m\u001B[43mbasis_gates\u001B[49m\u001B[38;5;241;43m=\u001B[39;49m\u001B[43mbasis_gates\u001B[49m\u001B[43m,\u001B[49m\n\u001B[1;32m    289\u001B[0m \u001B[43m        \u001B[49m\u001B[43mcoupling_map\u001B[49m\u001B[38;5;241;43m=\u001B[39;49m\u001B[43mcoupling_map\u001B[49m\u001B[43m,\u001B[49m\n\u001B[1;32m    290\u001B[0m \u001B[43m        \u001B[49m\u001B[43mbackend_properties\u001B[49m\u001B[38;5;241;43m=\u001B[39;49m\u001B[43mbackend_properties\u001B[49m\u001B[43m,\u001B[49m\n\u001B[1;32m    291\u001B[0m \u001B[43m        \u001B[49m\u001B[43minitial_layout\u001B[49m\u001B[38;5;241;43m=\u001B[39;49m\u001B[43minitial_layout\u001B[49m\u001B[43m,\u001B[49m\n\u001B[1;32m    292\u001B[0m \u001B[43m        \u001B[49m\u001B[43mseed_transpiler\u001B[49m\u001B[38;5;241;43m=\u001B[39;49m\u001B[43mseed_transpiler\u001B[49m\u001B[43m,\u001B[49m\n\u001B[1;32m    293\u001B[0m \u001B[43m        \u001B[49m\u001B[43moptimization_level\u001B[49m\u001B[38;5;241;43m=\u001B[39;49m\u001B[43moptimization_level\u001B[49m\u001B[43m,\u001B[49m\n\u001B[1;32m    294\u001B[0m \u001B[43m        \u001B[49m\u001B[43mbackend\u001B[49m\u001B[38;5;241;43m=\u001B[39;49m\u001B[43mbackend\u001B[49m\u001B[43m,\u001B[49m\n\u001B[1;32m    295\u001B[0m \u001B[43m    \u001B[49m\u001B[43m)\u001B[49m\n\u001B[1;32m    297\u001B[0m \u001B[38;5;28;01mif\u001B[39;00m schedule_circuit:\n\u001B[1;32m    298\u001B[0m     experiments \u001B[38;5;241m=\u001B[39m schedule(\n\u001B[1;32m    299\u001B[0m         circuits\u001B[38;5;241m=\u001B[39mexperiments,\n\u001B[1;32m    300\u001B[0m         backend\u001B[38;5;241m=\u001B[39mbackend,\n\u001B[0;32m   (...)\u001B[0m\n\u001B[1;32m    303\u001B[0m         method\u001B[38;5;241m=\u001B[39mscheduling_method,\n\u001B[1;32m    304\u001B[0m     )\n",
      "File \u001B[0;32m~/anaconda3/envs/QRA/lib/python3.8/site-packages/qiskit/compiler/transpiler.py:332\u001B[0m, in \u001B[0;36mtranspile\u001B[0;34m(circuits, backend, basis_gates, inst_map, coupling_map, backend_properties, initial_layout, layout_method, routing_method, translation_method, scheduling_method, instruction_durations, dt, approximation_degree, timing_constraints, seed_transpiler, optimization_level, callback, output_name, unitary_synthesis_method, unitary_synthesis_plugin_config, target, hls_config, init_method, optimization_method, ignore_backend_supplied_default_methods)\u001B[0m\n\u001B[1;32m    329\u001B[0m coupling_map \u001B[38;5;241m=\u001B[39m _parse_coupling_map(coupling_map, backend)\n\u001B[1;32m    330\u001B[0m approximation_degree \u001B[38;5;241m=\u001B[39m _parse_approximation_degree(approximation_degree)\n\u001B[0;32m--> 332\u001B[0m output_name \u001B[38;5;241m=\u001B[39m \u001B[43m_parse_output_name\u001B[49m\u001B[43m(\u001B[49m\u001B[43moutput_name\u001B[49m\u001B[43m,\u001B[49m\u001B[43m \u001B[49m\u001B[43mcircuits\u001B[49m\u001B[43m)\u001B[49m\n\u001B[1;32m    333\u001B[0m inst_map \u001B[38;5;241m=\u001B[39m _parse_inst_map(inst_map, backend)\n\u001B[1;32m    335\u001B[0m _check_circuits_coupling_map(circuits, coupling_map, backend)\n",
      "File \u001B[0;32m~/anaconda3/envs/QRA/lib/python3.8/site-packages/qiskit/compiler/transpiler.py:596\u001B[0m, in \u001B[0;36m_parse_output_name\u001B[0;34m(output_name, circuits)\u001B[0m\n\u001B[1;32m    591\u001B[0m         \u001B[38;5;28;01mraise\u001B[39;00m TranspilerError(\n\u001B[1;32m    592\u001B[0m             \u001B[38;5;124m\"\u001B[39m\u001B[38;5;124mThe parameter output_name should be a string or a\u001B[39m\u001B[38;5;124m\"\u001B[39m\n\u001B[1;32m    593\u001B[0m             \u001B[38;5;124m\"\u001B[39m\u001B[38;5;124mlist of strings: \u001B[39m\u001B[38;5;132;01m%s\u001B[39;00m\u001B[38;5;124m was used.\u001B[39m\u001B[38;5;124m\"\u001B[39m \u001B[38;5;241m%\u001B[39m \u001B[38;5;28mtype\u001B[39m(output_name)\n\u001B[1;32m    594\u001B[0m         )\n\u001B[1;32m    595\u001B[0m \u001B[38;5;28;01melse\u001B[39;00m:\n\u001B[0;32m--> 596\u001B[0m     \u001B[38;5;28;01mreturn\u001B[39;00m [circuit\u001B[38;5;241m.\u001B[39mname \u001B[38;5;28;01mfor\u001B[39;00m circuit \u001B[38;5;129;01min\u001B[39;00m circuits]\n",
      "File \u001B[0;32m~/anaconda3/envs/QRA/lib/python3.8/site-packages/qiskit/compiler/transpiler.py:596\u001B[0m, in \u001B[0;36m<listcomp>\u001B[0;34m(.0)\u001B[0m\n\u001B[1;32m    591\u001B[0m         \u001B[38;5;28;01mraise\u001B[39;00m TranspilerError(\n\u001B[1;32m    592\u001B[0m             \u001B[38;5;124m\"\u001B[39m\u001B[38;5;124mThe parameter output_name should be a string or a\u001B[39m\u001B[38;5;124m\"\u001B[39m\n\u001B[1;32m    593\u001B[0m             \u001B[38;5;124m\"\u001B[39m\u001B[38;5;124mlist of strings: \u001B[39m\u001B[38;5;132;01m%s\u001B[39;00m\u001B[38;5;124m was used.\u001B[39m\u001B[38;5;124m\"\u001B[39m \u001B[38;5;241m%\u001B[39m \u001B[38;5;28mtype\u001B[39m(output_name)\n\u001B[1;32m    594\u001B[0m         )\n\u001B[1;32m    595\u001B[0m \u001B[38;5;28;01melse\u001B[39;00m:\n\u001B[0;32m--> 596\u001B[0m     \u001B[38;5;28;01mreturn\u001B[39;00m [\u001B[43mcircuit\u001B[49m\u001B[38;5;241;43m.\u001B[39;49m\u001B[43mname\u001B[49m \u001B[38;5;28;01mfor\u001B[39;00m circuit \u001B[38;5;129;01min\u001B[39;00m circuits]\n",
      "\u001B[0;31mAttributeError\u001B[0m: 'QasmQobj' object has no attribute 'name'"
     ]
    }
   ],
   "source": [
    "result = execute(qobj, simulator).result()"
   ],
   "metadata": {
    "collapsed": false,
    "ExecuteTime": {
     "end_time": "2024-01-24T08:52:40.333686Z",
     "start_time": "2024-01-24T08:52:40.294420Z"
    }
   },
   "id": "c7d144d68997e0fd"
  },
  {
   "cell_type": "code",
   "execution_count": 23,
   "outputs": [
    {
     "data": {
      "text/plain": "<qiskit.circuit.quantumcircuit.QuantumCircuit at 0x1479bb790>"
     },
     "execution_count": 23,
     "metadata": {},
     "output_type": "execute_result"
    }
   ],
   "source": [
    "tqc"
   ],
   "metadata": {
    "collapsed": false,
    "ExecuteTime": {
     "end_time": "2024-01-24T08:55:20.006157Z",
     "start_time": "2024-01-24T08:55:20.000180Z"
    }
   },
   "id": "4992e04c2120454"
  },
  {
   "cell_type": "code",
   "execution_count": null,
   "outputs": [],
   "source": [],
   "metadata": {
    "collapsed": false
   },
   "id": "eb5c46b110192806"
  }
 ],
 "metadata": {
  "kernelspec": {
   "display_name": "Python 3",
   "language": "python",
   "name": "python3"
  },
  "language_info": {
   "codemirror_mode": {
    "name": "ipython",
    "version": 2
   },
   "file_extension": ".py",
   "mimetype": "text/x-python",
   "name": "python",
   "nbconvert_exporter": "python",
   "pygments_lexer": "ipython2",
   "version": "2.7.6"
  }
 },
 "nbformat": 4,
 "nbformat_minor": 5
}
