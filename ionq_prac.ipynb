{
 "cells": [
  {
   "cell_type": "code",
   "execution_count": 88,
   "id": "initial_id",
   "metadata": {
    "collapsed": true,
    "ExecuteTime": {
     "end_time": "2024-02-01T12:52:53.124736Z",
     "start_time": "2024-02-01T12:52:53.111409Z"
    }
   },
   "outputs": [],
   "source": [
    "from qiskit import QuantumCircuit, transpile\n",
    "from qiskit_ionq import IonQProvider\n",
    "import json"
   ]
  },
  {
   "cell_type": "code",
   "execution_count": 73,
   "outputs": [],
   "source": [
    "with open('qpu_keys.json', 'r') as keyfile:\n",
    "    key = json.load(keyfile)['IonQ']"
   ],
   "metadata": {
    "collapsed": false,
    "ExecuteTime": {
     "end_time": "2024-02-01T12:51:23.110427Z",
     "start_time": "2024-02-01T12:51:23.101918Z"
    }
   },
   "id": "f6712cf0c9b0466c"
  },
  {
   "cell_type": "code",
   "execution_count": 75,
   "outputs": [],
   "source": [
    "circuit = QuantumCircuit(2, 2)"
   ],
   "metadata": {
    "collapsed": false,
    "ExecuteTime": {
     "end_time": "2024-02-01T12:51:34.159719Z",
     "start_time": "2024-02-01T12:51:34.150106Z"
    }
   },
   "id": "a2351ae545cc54d9"
  },
  {
   "cell_type": "code",
   "execution_count": 76,
   "outputs": [
    {
     "data": {
      "text/plain": "<qiskit.circuit.instructionset.InstructionSet at 0x140c97b20>"
     },
     "execution_count": 76,
     "metadata": {},
     "output_type": "execute_result"
    }
   ],
   "source": [
    "circuit.h(0)\n",
    "circuit.cx(0,1)"
   ],
   "metadata": {
    "collapsed": false,
    "ExecuteTime": {
     "end_time": "2024-02-01T12:51:34.219349Z",
     "start_time": "2024-02-01T12:51:34.216973Z"
    }
   },
   "id": "17d164d513c117d5"
  },
  {
   "cell_type": "code",
   "execution_count": 77,
   "outputs": [],
   "source": [
    "circuit.measure_all()"
   ],
   "metadata": {
    "collapsed": false,
    "ExecuteTime": {
     "end_time": "2024-02-01T12:51:34.933165Z",
     "start_time": "2024-02-01T12:51:34.926365Z"
    }
   },
   "id": "d4793209eb665daf"
  },
  {
   "cell_type": "code",
   "execution_count": 78,
   "outputs": [
    {
     "data": {
      "text/plain": "<Figure size 580.387x367.889 with 1 Axes>",
      "image/png": "[encoded data removed]"
     },
     "execution_count": 78,
     "metadata": {},
     "output_type": "execute_result"
    }
   ],
   "source": [
    "circuit.draw(output='mpl', style=\"iqp\")"
   ],
   "metadata": {
    "collapsed": false,
    "ExecuteTime": {
     "end_time": "2024-02-01T12:51:35.351265Z",
     "start_time": "2024-02-01T12:51:35.293292Z"
    }
   },
   "id": "59b49be519df62b1"
  },
  {
   "cell_type": "markdown",
   "source": [
    "ionq"
   ],
   "metadata": {
    "collapsed": false
   },
   "id": "7fbef23c505a5cbb"
  },
  {
   "cell_type": "code",
   "execution_count": 79,
   "outputs": [],
   "source": [
    "provider = IonQProvider(key)  # provider 가져오기"
   ],
   "metadata": {
    "collapsed": false,
    "ExecuteTime": {
     "end_time": "2024-02-01T12:51:37.086400Z",
     "start_time": "2024-02-01T12:51:37.078120Z"
    }
   },
   "id": "77c2cbe5cf26d5e1"
  },
  {
   "cell_type": "code",
   "execution_count": 80,
   "outputs": [
    {
     "data": {
      "text/plain": "[<IonQSimulatorBackend('ionq_simulator')>, <IonQQPUBackend('ionq_qpu')>]"
     },
     "execution_count": 80,
     "metadata": {},
     "output_type": "execute_result"
    }
   ],
   "source": [
    "provider.backends()"
   ],
   "metadata": {
    "collapsed": false,
    "ExecuteTime": {
     "end_time": "2024-02-01T12:51:37.662602Z",
     "start_time": "2024-02-01T12:51:37.655149Z"
    }
   },
   "id": "849a02c5d347f345"
  },
  {
   "cell_type": "code",
   "execution_count": 81,
   "outputs": [],
   "source": [
    "backend = provider.get_backend('ionq_simulator')"
   ],
   "metadata": {
    "collapsed": false,
    "ExecuteTime": {
     "end_time": "2024-02-01T12:51:38.900120Z",
     "start_time": "2024-02-01T12:51:38.892697Z"
    }
   },
   "id": "faefcacf696fd6d0"
  },
  {
   "cell_type": "code",
   "execution_count": 82,
   "outputs": [],
   "source": [
    "qpu_job = backend.run(circuit, shots=10)"
   ],
   "metadata": {
    "collapsed": false,
    "ExecuteTime": {
     "end_time": "2024-02-01T12:51:40.538521Z",
     "start_time": "2024-02-01T12:51:39.473500Z"
    }
   },
   "id": "8eeddb2d79d3892a"
  },
  {
   "cell_type": "code",
   "execution_count": 83,
   "outputs": [
    {
     "data": {
      "text/plain": "['__abstractmethods__',\n '__class__',\n '__delattr__',\n '__dict__',\n '__dir__',\n '__doc__',\n '__eq__',\n '__format__',\n '__ge__',\n '__getattribute__',\n '__gt__',\n '__hash__',\n '__init__',\n '__init_subclass__',\n '__le__',\n '__lt__',\n '__module__',\n '__ne__',\n '__new__',\n '__reduce__',\n '__reduce_ex__',\n '__repr__',\n '__setattr__',\n '__sizeof__',\n '__slots__',\n '__str__',\n '__subclasshook__',\n '__weakref__',\n '_abc_impl',\n '_async',\n '_backend',\n '_client',\n '_execution_time',\n '_format_result',\n '_job_id',\n '_metadata',\n '_passed_args',\n '_result',\n '_status',\n 'backend',\n 'cancel',\n 'cancelled',\n 'circuit',\n 'done',\n 'extra_metadata',\n 'extra_query_params',\n 'get_counts',\n 'get_probabilities',\n 'in_final_state',\n 'job_id',\n 'metadata',\n 'result',\n 'running',\n 'status',\n 'submit',\n 'version',\n 'wait_for_final_state']"
     },
     "execution_count": 83,
     "metadata": {},
     "output_type": "execute_result"
    }
   ],
   "source": [
    "dir(qpu_job)"
   ],
   "metadata": {
    "collapsed": false,
    "ExecuteTime": {
     "end_time": "2024-02-01T12:51:41.517913Z",
     "start_time": "2024-02-01T12:51:41.508474Z"
    }
   },
   "id": "a13955750cfeb8e0"
  },
  {
   "cell_type": "code",
   "execution_count": 84,
   "outputs": [
    {
     "name": "stdout",
     "output_type": "stream",
     "text": [
      "backend: ionq_simulator  @@@@@@@@@@@@@@@@@\n",
      "get_probabilities: {'00 00': 0.5, '11 00': 0.5}  @@@@@@@@@@@@@@@@@\n",
      "job_id: 5f1817be-ba4b-463f-ac8c-5c158d7ab0d3  @@@@@@@@@@@@@@@@@\n",
      "status: JobStatus.DONE  @@@@@@@@@@@@@@@@@\n",
      "get_counts: {'00 00': 6, '11 00': 4}  @@@@@@@@@@@@@@@@@\n",
      "result: Result(backend_name='ionq_simulator', backend_version='0.0.1', qobj_id='None', job_id='5f1817be-ba4b-463f-ac8c-5c158d7ab0d3', success=True, results=[ExperimentResult(shots=10, success=True, meas_level=2, data=ExperimentResultData(counts={'0x0': 2, '0xc': 8}, probabilities={'0x0': 0.5, '0xc': 0.5}, metadata={'memory_slots': 4, 'global_phase': 0.0, 'n_qubits': 2, 'name': 'circuit-154', 'creg_sizes': [['c', 2], ['meas', 2]], 'clbit_labels': [['c', 0], ['c', 1], ['meas', 0], ['meas', 1]], 'qreg_sizes': [['q', 2]], 'qubit_labels': [['q', 0], ['q', 1]]}), header=QobjExperimentHeader(clbit_labels=[['c', 0], ['c', 1], ['meas', 0], ['meas', 1]], creg_sizes=[['c', 2], ['meas', 2]], global_phase=0.0, memory_slots=4, n_qubits=2, name='circuit-154', qreg_sizes=[['q', 2]], qubit_labels=[['q', 0], ['q', 1]]))], date=None, status=None, header=None, time_taken=0.011)  @@@@@@@@@@@@@@@@@\n"
     ]
    }
   ],
   "source": [
    "for i in ['backend', \n",
    "          'get_probabilities',\n",
    "          'job_id','status','get_counts',\n",
    "          'result'\n",
    "          ]:\n",
    "    answer = getattr(qpu_job, i)\n",
    "    print(f\"{i}: {answer()}  @@@@@@@@@@@@@@@@@\")"
   ],
   "metadata": {
    "collapsed": false,
    "ExecuteTime": {
     "end_time": "2024-02-01T12:51:44.435224Z",
     "start_time": "2024-02-01T12:51:42.339691Z"
    }
   },
   "id": "b008f2175f89028e"
  },
  {
   "cell_type": "code",
   "execution_count": 85,
   "outputs": [],
   "source": [
    "basis_gates = ['ccx', 'ch', 'cnot', 'cp', 'crx', 'cry', 'crz', 'csx', 'cx', 'cy', 'cz', 'h', 'i', 'id', 'mcp', 'mcphase', 'mct', 'mcx', 'mcx_gray', 'measure', 'p', 'rx', 'rxx', 'ry', 'ryy', 'rz', 'rzz', 's', 'sdg', 'swap', 'sx', 'sxdg', 't', 'tdg', 'toffoli', 'x', 'y', 'z']\n"
   ],
   "metadata": {
    "collapsed": false,
    "ExecuteTime": {
     "end_time": "2024-02-01T12:51:55.517408Z",
     "start_time": "2024-02-01T12:51:55.499921Z"
    }
   },
   "id": "c73dccf5dd508b86"
  },
  {
   "cell_type": "code",
   "execution_count": 96,
   "outputs": [
    {
     "data": {
      "text/plain": "<Figure size 580.387x367.889 with 1 Axes>",
      "image/png": "[encoded data removed]"
     },
     "execution_count": 96,
     "metadata": {},
     "output_type": "execute_result"
    }
   ],
   "source": [
    "transpile(circuit, basis_gates=basis_gates, optimization_level=3).draw(output='mpl', style=\"iqp\")"
   ],
   "metadata": {
    "collapsed": false,
    "ExecuteTime": {
     "end_time": "2024-02-01T12:54:12.641482Z",
     "start_time": "2024-02-01T12:54:12.566638Z"
    }
   },
   "id": "e156901b3e1ccd01"
  },
  {
   "cell_type": "code",
   "execution_count": 99,
   "outputs": [
    {
     "data": {
      "text/plain": "<Figure size 747.609x367.889 with 1 Axes>",
      "image/png": "[encoded data removed]"
     },
     "execution_count": 99,
     "metadata": {},
     "output_type": "execute_result"
    }
   ],
   "source": [
    "transpile(circuit, basis_gates=['rx', 'ry', 'rz', 'rxx', 'id']).draw(output='mpl', style=\"iqp\")"
   ],
   "metadata": {
    "collapsed": false,
    "ExecuteTime": {
     "end_time": "2024-02-01T14:10:32.218869Z",
     "start_time": "2024-02-01T14:10:32.125122Z"
    }
   },
   "id": "133899de169efc76"
  },
  {
   "cell_type": "code",
   "execution_count": null,
   "outputs": [],
   "source": [],
   "metadata": {
    "collapsed": false
   },
   "id": "6370f6fa829238ca"
  }
 ],
 "metadata": {
  "kernelspec": {
   "display_name": "Python 3",
   "language": "python",
   "name": "python3"
  },
  "language_info": {
   "codemirror_mode": {
    "name": "ipython",
    "version": 2
   },
   "file_extension": ".py",
   "mimetype": "text/x-python",
   "name": "python",
   "nbconvert_exporter": "python",
   "pygments_lexer": "ipython2",
   "version": "2.7.6"
  }
 },
 "nbformat": 4,
 "nbformat_minor": 5
}
