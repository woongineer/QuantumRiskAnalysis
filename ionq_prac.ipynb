{
 "cells": [
  {
   "cell_type": "code",
   "execution_count": 9,
   "id": "initial_id",
   "metadata": {
    "collapsed": true,
    "ExecuteTime": {
     "end_time": "2024-01-30T17:58:22.178472Z",
     "start_time": "2024-01-30T17:58:22.168728Z"
    }
   },
   "outputs": [],
   "source": [
    "from qiskit import QuantumCircuit\n",
    "from qiskit_ionq import IonQProvider\n",
    "import json"
   ]
  },
  {
   "cell_type": "code",
   "execution_count": 10,
   "outputs": [],
   "source": [
    "with open('qpu_keys.json', 'r') as keyfile:\n",
    "    key = json.load(keyfile)['IonQ']"
   ],
   "metadata": {
    "collapsed": false,
    "ExecuteTime": {
     "end_time": "2024-01-30T17:59:27.228095Z",
     "start_time": "2024-01-30T17:59:27.218525Z"
    }
   },
   "id": "f6712cf0c9b0466c"
  },
  {
   "cell_type": "code",
   "execution_count": 2,
   "outputs": [],
   "source": [
    "circuit = QuantumCircuit(2, 2)"
   ],
   "metadata": {
    "collapsed": false,
    "ExecuteTime": {
     "end_time": "2024-01-30T17:57:54.143634Z",
     "start_time": "2024-01-30T17:57:54.125502Z"
    }
   },
   "id": "a2351ae545cc54d9"
  },
  {
   "cell_type": "code",
   "execution_count": 3,
   "outputs": [
    {
     "data": {
      "text/plain": "<qiskit.circuit.instructionset.InstructionSet at 0x120fbe3a0>"
     },
     "execution_count": 3,
     "metadata": {},
     "output_type": "execute_result"
    }
   ],
   "source": [
    "circuit.h(0)\n",
    "circuit.cx(0,1)"
   ],
   "metadata": {
    "collapsed": false,
    "ExecuteTime": {
     "end_time": "2024-01-30T17:57:54.417007Z",
     "start_time": "2024-01-30T17:57:54.402868Z"
    }
   },
   "id": "17d164d513c117d5"
  },
  {
   "cell_type": "code",
   "execution_count": 4,
   "outputs": [],
   "source": [
    "circuit.measure_all()"
   ],
   "metadata": {
    "collapsed": false,
    "ExecuteTime": {
     "end_time": "2024-01-30T17:57:54.687731Z",
     "start_time": "2024-01-30T17:57:54.685282Z"
    }
   },
   "id": "d4793209eb665daf"
  },
  {
   "cell_type": "code",
   "execution_count": 5,
   "outputs": [
    {
     "data": {
      "text/plain": "<Figure size 580.387x367.889 with 1 Axes>",
      "image/png": "[encoded data removed]"
     },
     "execution_count": 5,
     "metadata": {},
     "output_type": "execute_result"
    }
   ],
   "source": [
    "circuit.draw(output='mpl', style=\"iqp\")"
   ],
   "metadata": {
    "collapsed": false,
    "ExecuteTime": {
     "end_time": "2024-01-30T17:57:55.396494Z",
     "start_time": "2024-01-30T17:57:55.122601Z"
    }
   },
   "id": "59b49be519df62b1"
  },
  {
   "cell_type": "markdown",
   "source": [
    "ionq"
   ],
   "metadata": {
    "collapsed": false
   },
   "id": "7fbef23c505a5cbb"
  },
  {
   "cell_type": "code",
   "execution_count": 28,
   "outputs": [],
   "source": [
    "provider = IonQProvider(key)  # provider 가져오기"
   ],
   "metadata": {
    "collapsed": false,
    "ExecuteTime": {
     "end_time": "2024-01-30T18:05:01.434733Z",
     "start_time": "2024-01-30T18:05:01.427242Z"
    }
   },
   "id": "77c2cbe5cf26d5e1"
  },
  {
   "cell_type": "code",
   "execution_count": 29,
   "outputs": [
    {
     "data": {
      "text/plain": "[<IonQSimulatorBackend('ionq_simulator')>, <IonQQPUBackend('ionq_qpu')>]"
     },
     "execution_count": 29,
     "metadata": {},
     "output_type": "execute_result"
    }
   ],
   "source": [
    "provider.backends()"
   ],
   "metadata": {
    "collapsed": false,
    "ExecuteTime": {
     "end_time": "2024-01-30T18:05:01.769105Z",
     "start_time": "2024-01-30T18:05:01.764331Z"
    }
   },
   "id": "849a02c5d347f345"
  },
  {
   "cell_type": "code",
   "execution_count": 49,
   "outputs": [],
   "source": [
    "backend = provider.get_backend('ionq_qpu')"
   ],
   "metadata": {
    "collapsed": false,
    "ExecuteTime": {
     "end_time": "2024-01-30T18:09:49.044337Z",
     "start_time": "2024-01-30T18:09:49.035991Z"
    }
   },
   "id": "faefcacf696fd6d0"
  },
  {
   "cell_type": "code",
   "execution_count": 50,
   "outputs": [
    {
     "ename": "IonQAPIError",
     "evalue": "IonQAPIError(message='Unable to run jobs on IonQ QPU. Please visit our Quantum Cloud Page https://ionq.com/quantum-cloud to learn more about getting access to our QPUs',status_code=400,headers={'Date': 'Tue, 30 Jan 2024 18:09:50 GMT', 'Content-Type': 'application/json; charset=utf-8', 'Content-Length': '198', 'Connection': 'keep-alive', 'Access-Control-Allow-Credentials': 'true', 'Access-Control-Expose-Headers': 'x-ionq-session', 'Cache-Control': 'no-cache', 'Strict-Transport-Security': \"'max-age=86400; includeSubDomains'\", 'Vary': 'Origin', 'CF-Cache-Status': 'DYNAMIC', 'Server': 'cloudflare', 'CF-RAY': '84dbab0b4c42fffc-ICN'},body={\"statusCode\":400,\"error\":\"Bad Request\",\"message\":\"Unable to run jobs on IonQ QPU. Please visit our Quantum Cloud Page https://ionq.com/quantum-cloud to learn more about getting access to our QPUs\"},error_type='Bad Request')",
     "output_type": "error",
     "traceback": [
      "\u001B[0;31m---------------------------------------------------------------------------\u001B[0m",
      "\u001B[0;31mIonQAPIError\u001B[0m                              Traceback (most recent call last)",
      "Cell \u001B[0;32mIn[50], line 1\u001B[0m\n\u001B[0;32m----> 1\u001B[0m qpu_job \u001B[38;5;241m=\u001B[39m \u001B[43mbackend\u001B[49m\u001B[38;5;241;43m.\u001B[39;49m\u001B[43mrun\u001B[49m\u001B[43m(\u001B[49m\u001B[43mcircuit\u001B[49m\u001B[43m,\u001B[49m\u001B[43m \u001B[49m\u001B[43mshots\u001B[49m\u001B[38;5;241;43m=\u001B[39;49m\u001B[38;5;241;43m10\u001B[39;49m\u001B[43m)\u001B[49m\n",
      "File \u001B[0;32m~/anaconda3/envs/QRA/lib/python3.8/site-packages/qiskit_ionq/ionq_backend.py:255\u001B[0m, in \u001B[0;36mIonQBackend.run\u001B[0;34m(self, circuit, **kwargs)\u001B[0m\n\u001B[1;32m    246\u001B[0m passed_args \u001B[38;5;241m=\u001B[39m kwargs\n\u001B[1;32m    248\u001B[0m job \u001B[38;5;241m=\u001B[39m ionq_job\u001B[38;5;241m.\u001B[39mIonQJob(\n\u001B[1;32m    249\u001B[0m     \u001B[38;5;28mself\u001B[39m,\n\u001B[1;32m    250\u001B[0m     \u001B[38;5;28;01mNone\u001B[39;00m,\n\u001B[0;32m   (...)\u001B[0m\n\u001B[1;32m    253\u001B[0m     passed_args\u001B[38;5;241m=\u001B[39mpassed_args,\n\u001B[1;32m    254\u001B[0m )\n\u001B[0;32m--> 255\u001B[0m \u001B[43mjob\u001B[49m\u001B[38;5;241;43m.\u001B[39;49m\u001B[43msubmit\u001B[49m\u001B[43m(\u001B[49m\u001B[43m)\u001B[49m\n\u001B[1;32m    256\u001B[0m \u001B[38;5;28;01mreturn\u001B[39;00m job\n",
      "File \u001B[0;32m~/anaconda3/envs/QRA/lib/python3.8/site-packages/qiskit_ionq/ionq_job.py:218\u001B[0m, in \u001B[0;36mIonQJob.submit\u001B[0;34m(self)\u001B[0m\n\u001B[1;32m    212\u001B[0m \u001B[38;5;28;01mif\u001B[39;00m \u001B[38;5;28mself\u001B[39m\u001B[38;5;241m.\u001B[39mcircuit \u001B[38;5;129;01mis\u001B[39;00m \u001B[38;5;28;01mNone\u001B[39;00m:\n\u001B[1;32m    213\u001B[0m     \u001B[38;5;28;01mraise\u001B[39;00m exceptions\u001B[38;5;241m.\u001B[39mIonQJobError(\n\u001B[1;32m    214\u001B[0m         \u001B[38;5;124m\"\u001B[39m\u001B[38;5;124mCannot submit a job without a circuit. \u001B[39m\u001B[38;5;124m\"\u001B[39m\n\u001B[1;32m    215\u001B[0m         \u001B[38;5;124m\"\u001B[39m\u001B[38;5;124mPlease create a job with a circuit and try again.\u001B[39m\u001B[38;5;124m\"\u001B[39m\n\u001B[1;32m    216\u001B[0m     )\n\u001B[0;32m--> 218\u001B[0m response \u001B[38;5;241m=\u001B[39m \u001B[38;5;28;43mself\u001B[39;49m\u001B[38;5;241;43m.\u001B[39;49m\u001B[43m_client\u001B[49m\u001B[38;5;241;43m.\u001B[39;49m\u001B[43msubmit_job\u001B[49m\u001B[43m(\u001B[49m\u001B[43mjob\u001B[49m\u001B[38;5;241;43m=\u001B[39;49m\u001B[38;5;28;43mself\u001B[39;49m\u001B[43m)\u001B[49m\n\u001B[1;32m    219\u001B[0m \u001B[38;5;28mself\u001B[39m\u001B[38;5;241m.\u001B[39m_job_id \u001B[38;5;241m=\u001B[39m response[\u001B[38;5;124m\"\u001B[39m\u001B[38;5;124mid\u001B[39m\u001B[38;5;124m\"\u001B[39m]\n",
      "File \u001B[0;32m~/anaconda3/envs/QRA/lib/python3.8/site-packages/decorator.py:232\u001B[0m, in \u001B[0;36mdecorate.<locals>.fun\u001B[0;34m(*args, **kw)\u001B[0m\n\u001B[1;32m    230\u001B[0m \u001B[38;5;28;01mif\u001B[39;00m \u001B[38;5;129;01mnot\u001B[39;00m kwsyntax:\n\u001B[1;32m    231\u001B[0m     args, kw \u001B[38;5;241m=\u001B[39m fix(args, kw, sig)\n\u001B[0;32m--> 232\u001B[0m \u001B[38;5;28;01mreturn\u001B[39;00m \u001B[43mcaller\u001B[49m\u001B[43m(\u001B[49m\u001B[43mfunc\u001B[49m\u001B[43m,\u001B[49m\u001B[43m \u001B[49m\u001B[38;5;241;43m*\u001B[39;49m\u001B[43m(\u001B[49m\u001B[43mextras\u001B[49m\u001B[43m \u001B[49m\u001B[38;5;241;43m+\u001B[39;49m\u001B[43m \u001B[49m\u001B[43margs\u001B[49m\u001B[43m)\u001B[49m\u001B[43m,\u001B[49m\u001B[43m \u001B[49m\u001B[38;5;241;43m*\u001B[39;49m\u001B[38;5;241;43m*\u001B[39;49m\u001B[43mkw\u001B[49m\u001B[43m)\u001B[49m\n",
      "File \u001B[0;32m~/anaconda3/envs/QRA/lib/python3.8/site-packages/retry/api.py:73\u001B[0m, in \u001B[0;36mretry.<locals>.retry_decorator\u001B[0;34m(f, *fargs, **fkwargs)\u001B[0m\n\u001B[1;32m     71\u001B[0m args \u001B[38;5;241m=\u001B[39m fargs \u001B[38;5;28;01mif\u001B[39;00m fargs \u001B[38;5;28;01melse\u001B[39;00m \u001B[38;5;28mlist\u001B[39m()\n\u001B[1;32m     72\u001B[0m kwargs \u001B[38;5;241m=\u001B[39m fkwargs \u001B[38;5;28;01mif\u001B[39;00m fkwargs \u001B[38;5;28;01melse\u001B[39;00m \u001B[38;5;28mdict\u001B[39m()\n\u001B[0;32m---> 73\u001B[0m \u001B[38;5;28;01mreturn\u001B[39;00m \u001B[43m__retry_internal\u001B[49m\u001B[43m(\u001B[49m\u001B[43mpartial\u001B[49m\u001B[43m(\u001B[49m\u001B[43mf\u001B[49m\u001B[43m,\u001B[49m\u001B[43m \u001B[49m\u001B[38;5;241;43m*\u001B[39;49m\u001B[43margs\u001B[49m\u001B[43m,\u001B[49m\u001B[43m \u001B[49m\u001B[38;5;241;43m*\u001B[39;49m\u001B[38;5;241;43m*\u001B[39;49m\u001B[43mkwargs\u001B[49m\u001B[43m)\u001B[49m\u001B[43m,\u001B[49m\u001B[43m \u001B[49m\u001B[43mexceptions\u001B[49m\u001B[43m,\u001B[49m\u001B[43m \u001B[49m\u001B[43mtries\u001B[49m\u001B[43m,\u001B[49m\u001B[43m \u001B[49m\u001B[43mdelay\u001B[49m\u001B[43m,\u001B[49m\u001B[43m \u001B[49m\u001B[43mmax_delay\u001B[49m\u001B[43m,\u001B[49m\u001B[43m \u001B[49m\u001B[43mbackoff\u001B[49m\u001B[43m,\u001B[49m\u001B[43m \u001B[49m\u001B[43mjitter\u001B[49m\u001B[43m,\u001B[49m\n\u001B[1;32m     74\u001B[0m \u001B[43m                        \u001B[49m\u001B[43mlogger\u001B[49m\u001B[43m)\u001B[49m\n",
      "File \u001B[0;32m~/anaconda3/envs/QRA/lib/python3.8/site-packages/retry/api.py:33\u001B[0m, in \u001B[0;36m__retry_internal\u001B[0;34m(f, exceptions, tries, delay, max_delay, backoff, jitter, logger)\u001B[0m\n\u001B[1;32m     31\u001B[0m \u001B[38;5;28;01mwhile\u001B[39;00m _tries:\n\u001B[1;32m     32\u001B[0m     \u001B[38;5;28;01mtry\u001B[39;00m:\n\u001B[0;32m---> 33\u001B[0m         \u001B[38;5;28;01mreturn\u001B[39;00m \u001B[43mf\u001B[49m\u001B[43m(\u001B[49m\u001B[43m)\u001B[49m\n\u001B[1;32m     34\u001B[0m     \u001B[38;5;28;01mexcept\u001B[39;00m exceptions \u001B[38;5;28;01mas\u001B[39;00m e:\n\u001B[1;32m     35\u001B[0m         _tries \u001B[38;5;241m-\u001B[39m\u001B[38;5;241m=\u001B[39m \u001B[38;5;241m1\u001B[39m\n",
      "File \u001B[0;32m~/anaconda3/envs/QRA/lib/python3.8/site-packages/qiskit_ionq/ionq_client.py:133\u001B[0m, in \u001B[0;36mIonQClient.submit_job\u001B[0;34m(self, job)\u001B[0m\n\u001B[1;32m    126\u001B[0m req_path \u001B[38;5;241m=\u001B[39m \u001B[38;5;28mself\u001B[39m\u001B[38;5;241m.\u001B[39mmake_path(\u001B[38;5;124m\"\u001B[39m\u001B[38;5;124mjobs\u001B[39m\u001B[38;5;124m\"\u001B[39m)\n\u001B[1;32m    127\u001B[0m res \u001B[38;5;241m=\u001B[39m requests\u001B[38;5;241m.\u001B[39mpost(\n\u001B[1;32m    128\u001B[0m     req_path,\n\u001B[1;32m    129\u001B[0m     data\u001B[38;5;241m=\u001B[39mas_json,\n\u001B[1;32m    130\u001B[0m     headers\u001B[38;5;241m=\u001B[39m\u001B[38;5;28mself\u001B[39m\u001B[38;5;241m.\u001B[39mapi_headers,\n\u001B[1;32m    131\u001B[0m     timeout\u001B[38;5;241m=\u001B[39m\u001B[38;5;241m30\u001B[39m,\n\u001B[1;32m    132\u001B[0m )\n\u001B[0;32m--> 133\u001B[0m \u001B[43mexceptions\u001B[49m\u001B[38;5;241;43m.\u001B[39;49m\u001B[43mIonQAPIError\u001B[49m\u001B[38;5;241;43m.\u001B[39;49m\u001B[43mraise_for_status\u001B[49m\u001B[43m(\u001B[49m\u001B[43mres\u001B[49m\u001B[43m)\u001B[49m\n\u001B[1;32m    134\u001B[0m \u001B[38;5;28;01mreturn\u001B[39;00m res\u001B[38;5;241m.\u001B[39mjson()\n",
      "File \u001B[0;32m~/anaconda3/envs/QRA/lib/python3.8/site-packages/qiskit_ionq/exceptions.py:111\u001B[0m, in \u001B[0;36mIonQAPIError.raise_for_status\u001B[0;34m(cls, response)\u001B[0m\n\u001B[1;32m    109\u001B[0m \u001B[38;5;28;01mif\u001B[39;00m _is_retriable(response\u001B[38;5;241m.\u001B[39mrequest\u001B[38;5;241m.\u001B[39mmethod, status_code):\n\u001B[1;32m    110\u001B[0m     \u001B[38;5;28;01mraise\u001B[39;00m IonQRetriableError(res)\n\u001B[0;32m--> 111\u001B[0m \u001B[38;5;28;01mraise\u001B[39;00m res\n",
      "\u001B[0;31mIonQAPIError\u001B[0m: IonQAPIError(message='Unable to run jobs on IonQ QPU. Please visit our Quantum Cloud Page https://ionq.com/quantum-cloud to learn more about getting access to our QPUs',status_code=400,headers={'Date': 'Tue, 30 Jan 2024 18:09:50 GMT', 'Content-Type': 'application/json; charset=utf-8', 'Content-Length': '198', 'Connection': 'keep-alive', 'Access-Control-Allow-Credentials': 'true', 'Access-Control-Expose-Headers': 'x-ionq-session', 'Cache-Control': 'no-cache', 'Strict-Transport-Security': \"'max-age=86400; includeSubDomains'\", 'Vary': 'Origin', 'CF-Cache-Status': 'DYNAMIC', 'Server': 'cloudflare', 'CF-RAY': '84dbab0b4c42fffc-ICN'},body={\"statusCode\":400,\"error\":\"Bad Request\",\"message\":\"Unable to run jobs on IonQ QPU. Please visit our Quantum Cloud Page https://ionq.com/quantum-cloud to learn more about getting access to our QPUs\"},error_type='Bad Request')"
     ]
    }
   ],
   "source": [
    "qpu_job = backend.run(circuit, shots=10)"
   ],
   "metadata": {
    "collapsed": false,
    "ExecuteTime": {
     "end_time": "2024-01-30T18:09:50.096498Z",
     "start_time": "2024-01-30T18:09:49.277541Z"
    }
   },
   "id": "8eeddb2d79d3892a"
  },
  {
   "cell_type": "code",
   "execution_count": 44,
   "outputs": [
    {
     "ename": "IonQAPIError",
     "evalue": "IonQAPIError(message='Not Found',status_code=404,headers={'Date': 'Tue, 30 Jan 2024 18:08:09 GMT', 'Content-Type': 'application/json; charset=utf-8', 'Transfer-Encoding': 'chunked', 'Connection': 'keep-alive', 'Access-Control-Allow-Credentials': 'true', 'Access-Control-Expose-Headers': 'x-ionq-session', 'Cache-Control': 'no-cache', 'Strict-Transport-Security': \"'max-age=86400; includeSubDomains'\", 'Vary': 'origin, Origin', 'CF-Cache-Status': 'DYNAMIC', 'Server': 'cloudflare', 'CF-RAY': '84dba898fed130d3-ICN', 'Content-Encoding': 'gzip'},body={\"statusCode\":404,\"error\":\"Not Found\",\"message\":\"Not Found\"},error_type='Not Found')",
     "output_type": "error",
     "traceback": [
      "\u001B[0;31m---------------------------------------------------------------------------\u001B[0m",
      "\u001B[0;31mIonQAPIError\u001B[0m                              Traceback (most recent call last)",
      "Cell \u001B[0;32mIn[44], line 1\u001B[0m\n\u001B[0;32m----> 1\u001B[0m \u001B[43mqpu_job\u001B[49m\u001B[38;5;241;43m.\u001B[39;49m\u001B[43mget_counts\u001B[49m\u001B[43m(\u001B[49m\u001B[43m)\u001B[49m\n",
      "File \u001B[0;32m~/anaconda3/envs/QRA/lib/python3.8/site-packages/qiskit_ionq/ionq_job.py:240\u001B[0m, in \u001B[0;36mIonQJob.get_counts\u001B[0;34m(self, circuit)\u001B[0m\n\u001B[1;32m    221\u001B[0m \u001B[38;5;28;01mdef\u001B[39;00m \u001B[38;5;21mget_counts\u001B[39m(\u001B[38;5;28mself\u001B[39m, circuit\u001B[38;5;241m=\u001B[39m\u001B[38;5;28;01mNone\u001B[39;00m):\n\u001B[1;32m    222\u001B[0m \u001B[38;5;250m    \u001B[39m\u001B[38;5;124;03m\"\"\"Return the counts for the job.\u001B[39;00m\n\u001B[1;32m    223\u001B[0m \n\u001B[1;32m    224\u001B[0m \u001B[38;5;124;03m    .. ATTENTION::\u001B[39;00m\n\u001B[0;32m   (...)\u001B[0m\n\u001B[1;32m    238\u001B[0m \u001B[38;5;124;03m        dict: A dictionary of counts.\u001B[39;00m\n\u001B[1;32m    239\u001B[0m \u001B[38;5;124;03m    \"\"\"\u001B[39;00m\n\u001B[0;32m--> 240\u001B[0m     \u001B[38;5;28;01mreturn\u001B[39;00m \u001B[38;5;28;43mself\u001B[39;49m\u001B[38;5;241;43m.\u001B[39;49m\u001B[43mresult\u001B[49m\u001B[43m(\u001B[49m\u001B[43m)\u001B[49m\u001B[38;5;241m.\u001B[39mget_counts(circuit)\n",
      "File \u001B[0;32m~/anaconda3/envs/QRA/lib/python3.8/site-packages/qiskit_ionq/ionq_job.py:286\u001B[0m, in \u001B[0;36mIonQJob.result\u001B[0;34m(self, sharpen, extra_query_params, **kwargs)\u001B[0m\n\u001B[1;32m    284\u001B[0m \u001B[38;5;66;03m# Wait for the job to complete.\u001B[39;00m\n\u001B[1;32m    285\u001B[0m \u001B[38;5;28;01mtry\u001B[39;00m:\n\u001B[0;32m--> 286\u001B[0m     \u001B[38;5;28;43mself\u001B[39;49m\u001B[38;5;241;43m.\u001B[39;49m\u001B[43mwait_for_final_state\u001B[49m\u001B[43m(\u001B[49m\u001B[38;5;241;43m*\u001B[39;49m\u001B[38;5;241;43m*\u001B[39;49m\u001B[43mkwargs\u001B[49m\u001B[43m)\u001B[49m\n\u001B[1;32m    287\u001B[0m \u001B[38;5;28;01mexcept\u001B[39;00m JobTimeoutError \u001B[38;5;28;01mas\u001B[39;00m ex:\n\u001B[1;32m    288\u001B[0m     \u001B[38;5;28;01mraise\u001B[39;00m exceptions\u001B[38;5;241m.\u001B[39mIonQJobTimeoutError(\n\u001B[1;32m    289\u001B[0m         \u001B[38;5;124m\"\u001B[39m\u001B[38;5;124mTimed out waiting for job to complete.\u001B[39m\u001B[38;5;124m\"\u001B[39m\n\u001B[1;32m    290\u001B[0m     ) \u001B[38;5;28;01mfrom\u001B[39;00m \u001B[38;5;21;01mex\u001B[39;00m\n",
      "File \u001B[0;32m~/anaconda3/envs/QRA/lib/python3.8/site-packages/qiskit/providers/job.py:114\u001B[0m, in \u001B[0;36mJobV1.wait_for_final_state\u001B[0;34m(self, timeout, wait, callback)\u001B[0m\n\u001B[1;32m    112\u001B[0m     \u001B[38;5;28;01mreturn\u001B[39;00m\n\u001B[1;32m    113\u001B[0m start_time \u001B[38;5;241m=\u001B[39m time\u001B[38;5;241m.\u001B[39mtime()\n\u001B[0;32m--> 114\u001B[0m status \u001B[38;5;241m=\u001B[39m \u001B[38;5;28;43mself\u001B[39;49m\u001B[38;5;241;43m.\u001B[39;49m\u001B[43mstatus\u001B[49m\u001B[43m(\u001B[49m\u001B[43m)\u001B[49m\n\u001B[1;32m    115\u001B[0m \u001B[38;5;28;01mwhile\u001B[39;00m status \u001B[38;5;129;01mnot\u001B[39;00m \u001B[38;5;129;01min\u001B[39;00m JOB_FINAL_STATES:\n\u001B[1;32m    116\u001B[0m     elapsed_time \u001B[38;5;241m=\u001B[39m time\u001B[38;5;241m.\u001B[39mtime() \u001B[38;5;241m-\u001B[39m start_time\n",
      "File \u001B[0;32m~/anaconda3/envs/QRA/lib/python3.8/site-packages/qiskit_ionq/ionq_job.py:323\u001B[0m, in \u001B[0;36mIonQJob.status\u001B[0;34m(self)\u001B[0m\n\u001B[1;32m    320\u001B[0m     \u001B[38;5;28;01mreturn\u001B[39;00m \u001B[38;5;28mself\u001B[39m\u001B[38;5;241m.\u001B[39m_status\n\u001B[1;32m    322\u001B[0m \u001B[38;5;66;03m# Otherwise, look up a status enum from the response.\u001B[39;00m\n\u001B[0;32m--> 323\u001B[0m response \u001B[38;5;241m=\u001B[39m \u001B[38;5;28;43mself\u001B[39;49m\u001B[38;5;241;43m.\u001B[39;49m\u001B[43m_client\u001B[49m\u001B[38;5;241;43m.\u001B[39;49m\u001B[43mretrieve_job\u001B[49m\u001B[43m(\u001B[49m\u001B[38;5;28;43mself\u001B[39;49m\u001B[38;5;241;43m.\u001B[39;49m\u001B[43m_job_id\u001B[49m\u001B[43m)\u001B[49m\n\u001B[1;32m    324\u001B[0m api_response_status \u001B[38;5;241m=\u001B[39m response[\u001B[38;5;124m\"\u001B[39m\u001B[38;5;124mstatus\u001B[39m\u001B[38;5;124m\"\u001B[39m]\n\u001B[1;32m    325\u001B[0m \u001B[38;5;28;01mtry\u001B[39;00m:\n",
      "File \u001B[0;32m~/anaconda3/envs/QRA/lib/python3.8/site-packages/decorator.py:232\u001B[0m, in \u001B[0;36mdecorate.<locals>.fun\u001B[0;34m(*args, **kw)\u001B[0m\n\u001B[1;32m    230\u001B[0m \u001B[38;5;28;01mif\u001B[39;00m \u001B[38;5;129;01mnot\u001B[39;00m kwsyntax:\n\u001B[1;32m    231\u001B[0m     args, kw \u001B[38;5;241m=\u001B[39m fix(args, kw, sig)\n\u001B[0;32m--> 232\u001B[0m \u001B[38;5;28;01mreturn\u001B[39;00m \u001B[43mcaller\u001B[49m\u001B[43m(\u001B[49m\u001B[43mfunc\u001B[49m\u001B[43m,\u001B[49m\u001B[43m \u001B[49m\u001B[38;5;241;43m*\u001B[39;49m\u001B[43m(\u001B[49m\u001B[43mextras\u001B[49m\u001B[43m \u001B[49m\u001B[38;5;241;43m+\u001B[39;49m\u001B[43m \u001B[49m\u001B[43margs\u001B[49m\u001B[43m)\u001B[49m\u001B[43m,\u001B[49m\u001B[43m \u001B[49m\u001B[38;5;241;43m*\u001B[39;49m\u001B[38;5;241;43m*\u001B[39;49m\u001B[43mkw\u001B[49m\u001B[43m)\u001B[49m\n",
      "File \u001B[0;32m~/anaconda3/envs/QRA/lib/python3.8/site-packages/retry/api.py:73\u001B[0m, in \u001B[0;36mretry.<locals>.retry_decorator\u001B[0;34m(f, *fargs, **fkwargs)\u001B[0m\n\u001B[1;32m     71\u001B[0m args \u001B[38;5;241m=\u001B[39m fargs \u001B[38;5;28;01mif\u001B[39;00m fargs \u001B[38;5;28;01melse\u001B[39;00m \u001B[38;5;28mlist\u001B[39m()\n\u001B[1;32m     72\u001B[0m kwargs \u001B[38;5;241m=\u001B[39m fkwargs \u001B[38;5;28;01mif\u001B[39;00m fkwargs \u001B[38;5;28;01melse\u001B[39;00m \u001B[38;5;28mdict\u001B[39m()\n\u001B[0;32m---> 73\u001B[0m \u001B[38;5;28;01mreturn\u001B[39;00m \u001B[43m__retry_internal\u001B[49m\u001B[43m(\u001B[49m\u001B[43mpartial\u001B[49m\u001B[43m(\u001B[49m\u001B[43mf\u001B[49m\u001B[43m,\u001B[49m\u001B[43m \u001B[49m\u001B[38;5;241;43m*\u001B[39;49m\u001B[43margs\u001B[49m\u001B[43m,\u001B[49m\u001B[43m \u001B[49m\u001B[38;5;241;43m*\u001B[39;49m\u001B[38;5;241;43m*\u001B[39;49m\u001B[43mkwargs\u001B[49m\u001B[43m)\u001B[49m\u001B[43m,\u001B[49m\u001B[43m \u001B[49m\u001B[43mexceptions\u001B[49m\u001B[43m,\u001B[49m\u001B[43m \u001B[49m\u001B[43mtries\u001B[49m\u001B[43m,\u001B[49m\u001B[43m \u001B[49m\u001B[43mdelay\u001B[49m\u001B[43m,\u001B[49m\u001B[43m \u001B[49m\u001B[43mmax_delay\u001B[49m\u001B[43m,\u001B[49m\u001B[43m \u001B[49m\u001B[43mbackoff\u001B[49m\u001B[43m,\u001B[49m\u001B[43m \u001B[49m\u001B[43mjitter\u001B[49m\u001B[43m,\u001B[49m\n\u001B[1;32m     74\u001B[0m \u001B[43m                        \u001B[49m\u001B[43mlogger\u001B[49m\u001B[43m)\u001B[49m\n",
      "File \u001B[0;32m~/anaconda3/envs/QRA/lib/python3.8/site-packages/retry/api.py:33\u001B[0m, in \u001B[0;36m__retry_internal\u001B[0;34m(f, exceptions, tries, delay, max_delay, backoff, jitter, logger)\u001B[0m\n\u001B[1;32m     31\u001B[0m \u001B[38;5;28;01mwhile\u001B[39;00m _tries:\n\u001B[1;32m     32\u001B[0m     \u001B[38;5;28;01mtry\u001B[39;00m:\n\u001B[0;32m---> 33\u001B[0m         \u001B[38;5;28;01mreturn\u001B[39;00m \u001B[43mf\u001B[49m\u001B[43m(\u001B[49m\u001B[43m)\u001B[49m\n\u001B[1;32m     34\u001B[0m     \u001B[38;5;28;01mexcept\u001B[39;00m exceptions \u001B[38;5;28;01mas\u001B[39;00m e:\n\u001B[1;32m     35\u001B[0m         _tries \u001B[38;5;241m-\u001B[39m\u001B[38;5;241m=\u001B[39m \u001B[38;5;241m1\u001B[39m\n",
      "File \u001B[0;32m~/anaconda3/envs/QRA/lib/python3.8/site-packages/qiskit_ionq/ionq_client.py:154\u001B[0m, in \u001B[0;36mIonQClient.retrieve_job\u001B[0;34m(self, job_id)\u001B[0m\n\u001B[1;32m    152\u001B[0m req_path \u001B[38;5;241m=\u001B[39m \u001B[38;5;28mself\u001B[39m\u001B[38;5;241m.\u001B[39mmake_path(\u001B[38;5;124m\"\u001B[39m\u001B[38;5;124mjobs\u001B[39m\u001B[38;5;124m\"\u001B[39m, job_id)\n\u001B[1;32m    153\u001B[0m res \u001B[38;5;241m=\u001B[39m \u001B[38;5;28mself\u001B[39m\u001B[38;5;241m.\u001B[39m_get_with_retry(req_path, headers\u001B[38;5;241m=\u001B[39m\u001B[38;5;28mself\u001B[39m\u001B[38;5;241m.\u001B[39mapi_headers)\n\u001B[0;32m--> 154\u001B[0m \u001B[43mexceptions\u001B[49m\u001B[38;5;241;43m.\u001B[39;49m\u001B[43mIonQAPIError\u001B[49m\u001B[38;5;241;43m.\u001B[39;49m\u001B[43mraise_for_status\u001B[49m\u001B[43m(\u001B[49m\u001B[43mres\u001B[49m\u001B[43m)\u001B[49m\n\u001B[1;32m    155\u001B[0m \u001B[38;5;28;01mreturn\u001B[39;00m res\u001B[38;5;241m.\u001B[39mjson()\n",
      "File \u001B[0;32m~/anaconda3/envs/QRA/lib/python3.8/site-packages/qiskit_ionq/exceptions.py:111\u001B[0m, in \u001B[0;36mIonQAPIError.raise_for_status\u001B[0;34m(cls, response)\u001B[0m\n\u001B[1;32m    109\u001B[0m \u001B[38;5;28;01mif\u001B[39;00m _is_retriable(response\u001B[38;5;241m.\u001B[39mrequest\u001B[38;5;241m.\u001B[39mmethod, status_code):\n\u001B[1;32m    110\u001B[0m     \u001B[38;5;28;01mraise\u001B[39;00m IonQRetriableError(res)\n\u001B[0;32m--> 111\u001B[0m \u001B[38;5;28;01mraise\u001B[39;00m res\n",
      "\u001B[0;31mIonQAPIError\u001B[0m: IonQAPIError(message='Not Found',status_code=404,headers={'Date': 'Tue, 30 Jan 2024 18:08:09 GMT', 'Content-Type': 'application/json; charset=utf-8', 'Transfer-Encoding': 'chunked', 'Connection': 'keep-alive', 'Access-Control-Allow-Credentials': 'true', 'Access-Control-Expose-Headers': 'x-ionq-session', 'Cache-Control': 'no-cache', 'Strict-Transport-Security': \"'max-age=86400; includeSubDomains'\", 'Vary': 'origin, Origin', 'CF-Cache-Status': 'DYNAMIC', 'Server': 'cloudflare', 'CF-RAY': '84dba898fed130d3-ICN', 'Content-Encoding': 'gzip'},body={\"statusCode\":404,\"error\":\"Not Found\",\"message\":\"Not Found\"},error_type='Not Found')"
     ]
    }
   ],
   "source": [
    "qpu_job.get_counts()"
   ],
   "metadata": {
    "collapsed": false,
    "ExecuteTime": {
     "end_time": "2024-01-30T18:08:09.461157Z",
     "start_time": "2024-01-30T18:08:08.950689Z"
    }
   },
   "id": "31d02504804a449b"
  },
  {
   "cell_type": "code",
   "execution_count": null,
   "outputs": [],
   "source": [],
   "metadata": {
    "collapsed": false
   },
   "id": "c73dccf5dd508b86"
  }
 ],
 "metadata": {
  "kernelspec": {
   "display_name": "Python 3",
   "language": "python",
   "name": "python3"
  },
  "language_info": {
   "codemirror_mode": {
    "name": "ipython",
    "version": 2
   },
   "file_extension": ".py",
   "mimetype": "text/x-python",
   "name": "python",
   "nbconvert_exporter": "python",
   "pygments_lexer": "ipython2",
   "version": "2.7.6"
  }
 },
 "nbformat": 4,
 "nbformat_minor": 5
}
