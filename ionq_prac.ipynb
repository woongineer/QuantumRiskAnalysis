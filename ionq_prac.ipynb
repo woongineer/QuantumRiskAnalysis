{
 "cells": [
  {
   "cell_type": "code",
   "execution_count": 9,
   "id": "initial_id",
   "metadata": {
    "collapsed": true,
    "ExecuteTime": {
     "end_time": "2024-01-30T17:58:22.178472Z",
     "start_time": "2024-01-30T17:58:22.168728Z"
    }
   },
   "outputs": [],
   "source": [
    "from qiskit import QuantumCircuit\n",
    "from qiskit_ionq import IonQProvider\n",
    "import json"
   ]
  },
  {
   "cell_type": "code",
   "execution_count": 10,
   "outputs": [],
   "source": [
    "with open('qpu_keys.json', 'r') as keyfile:\n",
    "    key = json.load(keyfile)['IonQ']"
   ],
   "metadata": {
    "collapsed": false,
    "ExecuteTime": {
     "end_time": "2024-01-30T17:59:27.228095Z",
     "start_time": "2024-01-30T17:59:27.218525Z"
    }
   },
   "id": "f6712cf0c9b0466c"
  },
  {
   "cell_type": "code",
   "execution_count": 2,
   "outputs": [],
   "source": [
    "circuit = QuantumCircuit(2, 2)"
   ],
   "metadata": {
    "collapsed": false,
    "ExecuteTime": {
     "end_time": "2024-01-30T17:57:54.143634Z",
     "start_time": "2024-01-30T17:57:54.125502Z"
    }
   },
   "id": "a2351ae545cc54d9"
  },
  {
   "cell_type": "code",
   "execution_count": 3,
   "outputs": [
    {
     "data": {
      "text/plain": "<qiskit.circuit.instructionset.InstructionSet at 0x120fbe3a0>"
     },
     "execution_count": 3,
     "metadata": {},
     "output_type": "execute_result"
    }
   ],
   "source": [
    "circuit.h(0)\n",
    "circuit.cx(0,1)"
   ],
   "metadata": {
    "collapsed": false,
    "ExecuteTime": {
     "end_time": "2024-01-30T17:57:54.417007Z",
     "start_time": "2024-01-30T17:57:54.402868Z"
    }
   },
   "id": "17d164d513c117d5"
  },
  {
   "cell_type": "code",
   "execution_count": 4,
   "outputs": [],
   "source": [
    "circuit.measure_all()"
   ],
   "metadata": {
    "collapsed": false,
    "ExecuteTime": {
     "end_time": "2024-01-30T17:57:54.687731Z",
     "start_time": "2024-01-30T17:57:54.685282Z"
    }
   },
   "id": "d4793209eb665daf"
  },
  {
   "cell_type": "code",
   "execution_count": 5,
   "outputs": [
    {
     "data": {
      "text/plain": "<Figure size 580.387x367.889 with 1 Axes>",
      "image/png": "[encoded data removed]"
     },
     "execution_count": 5,
     "metadata": {},
     "output_type": "execute_result"
    }
   ],
   "source": [
    "circuit.draw(output='mpl', style=\"iqp\")"
   ],
   "metadata": {
    "collapsed": false,
    "ExecuteTime": {
     "end_time": "2024-01-30T17:57:55.396494Z",
     "start_time": "2024-01-30T17:57:55.122601Z"
    }
   },
   "id": "59b49be519df62b1"
  },
  {
   "cell_type": "markdown",
   "source": [
    "ionq"
   ],
   "metadata": {
    "collapsed": false
   },
   "id": "7fbef23c505a5cbb"
  },
  {
   "cell_type": "code",
   "execution_count": 28,
   "outputs": [],
   "source": [
    "provider = IonQProvider(key)  # provider 가져오기"
   ],
   "metadata": {
    "collapsed": false,
    "ExecuteTime": {
     "end_time": "2024-01-30T18:05:01.434733Z",
     "start_time": "2024-01-30T18:05:01.427242Z"
    }
   },
   "id": "77c2cbe5cf26d5e1"
  },
  {
   "cell_type": "code",
   "execution_count": 29,
   "outputs": [
    {
     "data": {
      "text/plain": "[<IonQSimulatorBackend('ionq_simulator')>, <IonQQPUBackend('ionq_qpu')>]"
     },
     "execution_count": 29,
     "metadata": {},
     "output_type": "execute_result"
    }
   ],
   "source": [
    "provider.backends()"
   ],
   "metadata": {
    "collapsed": false,
    "ExecuteTime": {
     "end_time": "2024-01-30T18:05:01.769105Z",
     "start_time": "2024-01-30T18:05:01.764331Z"
    }
   },
   "id": "849a02c5d347f345"
  },
  {
   "cell_type": "code",
   "execution_count": 68,
   "outputs": [],
   "source": [
    "backend = provider.get_backend('ionq_simulator')"
   ],
   "metadata": {
    "collapsed": false,
    "ExecuteTime": {
     "end_time": "2024-01-30T18:25:55.344875Z",
     "start_time": "2024-01-30T18:25:55.335962Z"
    }
   },
   "id": "faefcacf696fd6d0"
  },
  {
   "cell_type": "code",
   "execution_count": 69,
   "outputs": [],
   "source": [
    "qpu_job = backend.run(circuit, shots=10)"
   ],
   "metadata": {
    "collapsed": false,
    "ExecuteTime": {
     "end_time": "2024-01-30T18:25:56.547404Z",
     "start_time": "2024-01-30T18:25:56.111743Z"
    }
   },
   "id": "8eeddb2d79d3892a"
  },
  {
   "cell_type": "code",
   "execution_count": 70,
   "outputs": [
    {
     "data": {
      "text/plain": "['__abstractmethods__',\n '__class__',\n '__delattr__',\n '__dict__',\n '__dir__',\n '__doc__',\n '__eq__',\n '__format__',\n '__ge__',\n '__getattribute__',\n '__gt__',\n '__hash__',\n '__init__',\n '__init_subclass__',\n '__le__',\n '__lt__',\n '__module__',\n '__ne__',\n '__new__',\n '__reduce__',\n '__reduce_ex__',\n '__repr__',\n '__setattr__',\n '__sizeof__',\n '__slots__',\n '__str__',\n '__subclasshook__',\n '__weakref__',\n '_abc_impl',\n '_async',\n '_backend',\n '_client',\n '_execution_time',\n '_format_result',\n '_job_id',\n '_metadata',\n '_passed_args',\n '_result',\n '_status',\n 'backend',\n 'cancel',\n 'cancelled',\n 'circuit',\n 'done',\n 'extra_metadata',\n 'extra_query_params',\n 'get_counts',\n 'get_probabilities',\n 'in_final_state',\n 'job_id',\n 'metadata',\n 'result',\n 'running',\n 'status',\n 'submit',\n 'version',\n 'wait_for_final_state']"
     },
     "execution_count": 70,
     "metadata": {},
     "output_type": "execute_result"
    }
   ],
   "source": [
    "dir(qpu_job)"
   ],
   "metadata": {
    "collapsed": false,
    "ExecuteTime": {
     "end_time": "2024-01-30T18:25:57.206178Z",
     "start_time": "2024-01-30T18:25:57.198327Z"
    }
   },
   "id": "a13955750cfeb8e0"
  },
  {
   "cell_type": "code",
   "execution_count": 71,
   "outputs": [
    {
     "name": "stdout",
     "output_type": "stream",
     "text": [
      "backend: ionq_simulator  @@@@@@@@@@@@@@@@@\n",
      "get_probabilities: {'00 00': 0.5, '11 00': 0.5}  @@@@@@@@@@@@@@@@@\n",
      "job_id: e8c5899b-715f-412c-8feb-1f1299989430  @@@@@@@@@@@@@@@@@\n",
      "status: JobStatus.DONE  @@@@@@@@@@@@@@@@@\n",
      "get_counts: {'00 00': 4, '11 00': 6}  @@@@@@@@@@@@@@@@@\n",
      "result: Result(backend_name='ionq_simulator', backend_version='0.0.1', qobj_id='None', job_id='e8c5899b-715f-412c-8feb-1f1299989430', success=True, results=[ExperimentResult(shots=10, success=True, meas_level=2, data=ExperimentResultData(counts={'0x0': 4, '0xc': 6}, probabilities={'0x0': 0.5, '0xc': 0.5}, metadata={'memory_slots': 4, 'global_phase': 0.0, 'n_qubits': 2, 'name': 'circuit-152', 'creg_sizes': [['c', 2], ['meas', 2]], 'clbit_labels': [['c', 0], ['c', 1], ['meas', 0], ['meas', 1]], 'qreg_sizes': [['q', 2]], 'qubit_labels': [['q', 0], ['q', 1]]}), header=QobjExperimentHeader(clbit_labels=[['c', 0], ['c', 1], ['meas', 0], ['meas', 1]], creg_sizes=[['c', 2], ['meas', 2]], global_phase=0.0, memory_slots=4, n_qubits=2, name='circuit-152', qreg_sizes=[['q', 2]], qubit_labels=[['q', 0], ['q', 1]]))], date=None, status=None, header=None, time_taken=0.016)  @@@@@@@@@@@@@@@@@\n"
     ]
    }
   ],
   "source": [
    "for i in ['backend', \n",
    "          'get_probabilities',\n",
    "          'job_id','status','get_counts',\n",
    "          'result'\n",
    "          ]:\n",
    "    answer = getattr(qpu_job, i)\n",
    "    print(f\"{i}: {answer()}  @@@@@@@@@@@@@@@@@\")"
   ],
   "metadata": {
    "collapsed": false,
    "ExecuteTime": {
     "end_time": "2024-01-30T18:26:00.461604Z",
     "start_time": "2024-01-30T18:25:58.712876Z"
    }
   },
   "id": "b008f2175f89028e"
  },
  {
   "cell_type": "code",
   "execution_count": null,
   "outputs": [],
   "source": [],
   "metadata": {
    "collapsed": false
   },
   "id": "c73dccf5dd508b86"
  }
 ],
 "metadata": {
  "kernelspec": {
   "display_name": "Python 3",
   "language": "python",
   "name": "python3"
  },
  "language_info": {
   "codemirror_mode": {
    "name": "ipython",
    "version": 2
   },
   "file_extension": ".py",
   "mimetype": "text/x-python",
   "name": "python",
   "nbconvert_exporter": "python",
   "pygments_lexer": "ipython2",
   "version": "2.7.6"
  }
 },
 "nbformat": 4,
 "nbformat_minor": 5
}
